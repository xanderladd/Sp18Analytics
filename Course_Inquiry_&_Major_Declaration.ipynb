{
 "cells": [
  {
   "cell_type": "code",
   "execution_count": 21,
   "metadata": {
    "colab": {},
    "colab_type": "code",
    "id": "wZO0MQM1U8YN"
   },
   "outputs": [],
   "source": [
    "course_catalog = {}"
   ]
  },
  {
   "cell_type": "code",
   "execution_count": 22,
   "metadata": {
    "colab": {},
    "colab_type": "code",
    "id": "JTF09GoUU8YR"
   },
   "outputs": [],
   "source": [
    "# lower division requirements\n",
    "course_catalog['Data8'] = ''\n",
    "course_catalog['Math1A'] = ''\n",
    "course_catalog['Math1B'] = 'Math1A'\n",
    "course_catalog['Math54'] = 'Math1B'\n",
    "course_catalog['Stat89A'] = 'Data8'\n",
    "course_catalog['CS88'] = 'Math1A'\n",
    "course_catalog['CS61A'] = 'Math1A'\n",
    "course_catalog['CS61B'] = ['CS61A', 'CS88', 'E7']\n",
    "\n",
    "# upper division requirements\n",
    "course_catalog['Data100'] = [['Data8'], ['CS61A', 'CS88', 'E7'], ['Math54', 'EE16A']]"
   ]
  },
  {
   "cell_type": "code",
   "execution_count": 23,
   "metadata": {
    "colab": {},
    "colab_type": "code",
    "id": "sCiOSg2_U8YZ",
    "outputId": "803900be-3613-413d-da10-f077f103886f"
   },
   "outputs": [
    {
     "data": {
      "text/plain": [
       "{'Data8': '',\n",
       " 'Math1A': '',\n",
       " 'Math1B': 'Math1A',\n",
       " 'Math54': 'Math1B',\n",
       " 'Stat89A': 'Data8',\n",
       " 'CS88': 'Math1A',\n",
       " 'CS61A': 'Math1A',\n",
       " 'CS61B': ['CS61A', 'CS88', 'E7'],\n",
       " 'Data100': [['Data8'], ['CS61A', 'CS88', 'E7'], ['Math54', 'EE16A']]}"
      ]
     },
     "execution_count": 23,
     "metadata": {},
     "output_type": "execute_result"
    }
   ],
   "source": [
    "course_catalog"
   ]
  },
  {
   "cell_type": "code",
   "execution_count": 24,
   "metadata": {
    "colab": {},
    "colab_type": "code",
    "id": "98buu-0hU8Yg"
   },
   "outputs": [],
   "source": [
    "def inquiry(desired_class, classes_taken):\n",
    "    x = 0\n",
    "    if desired_class not in course_catalog:\n",
    "        print('Course not registered.')\n",
    "    else:\n",
    "        prereq = course_catalog[desired_class]\n",
    "        if isinstance(prereq, list):\n",
    "            for setcl in prereq:\n",
    "                for c in setcl:\n",
    "                    if c in classes_taken:\n",
    "                        break\n",
    "                    elif c == setcl[-1]:\n",
    "                        print('You need to complete one of ' + str(setcl) + ' first.') \n",
    "                        x = 1\n",
    "            if x == 0:    \n",
    "                print('You are qualified to take this course!')\n",
    "            return\n",
    "        for cl in classes_taken:   \n",
    "            if cl in prereq or prereq == '':\n",
    "                print('You are qualified to take this course!')\n",
    "                return\n",
    "        print('You need to complete ' + str(prereq) + ' first.')"
   ]
  },
  {
   "cell_type": "code",
   "execution_count": 25,
   "metadata": {},
   "outputs": [],
   "source": [
    "# Major Declaration\n",
    "# lower division requirements for incoming students\n",
    "lower_div = [['Data8'], ['Math1A', 'Math10A', 'Math16A'], ['Math1B'], ['Math54', 'Stat89A', 'Physics89', ['EE16A', 'EE16B']], ['CS61A', 'CS88', 'E7'], ['CS61B']]\n",
    "# upper div requirements\n",
    "upper_div = [[]]"
   ]
  },
  {
   "cell_type": "code",
   "execution_count": 26,
   "metadata": {},
   "outputs": [],
   "source": [
    "def major_declaration(classes_taken):\n",
    "    pointer = 0\n",
    "    readyornot = 1\n",
    "    for clist in lower_div:\n",
    "        if len(clist) == 1:\n",
    "            if clist[0] in classes_taken:\n",
    "                continue\n",
    "            print(\"You need to take \" + str(clist[0]) + \" to declare Data Science.\")\n",
    "            readyornot = 0\n",
    "        else: \n",
    "            for clas in clist:\n",
    "                if isinstance(clas, list):\n",
    "                    for i in clas:\n",
    "                        if i not in classes_taken:\n",
    "                            break\n",
    "                        elif i == clas[-1]:\n",
    "                            pointer = 1\n",
    "                if pointer == 1:\n",
    "                    break   \n",
    "                elif clas in classes_taken:\n",
    "                    break\n",
    "                elif clas == clist[-1]:\n",
    "                        print(\"You need to take one of \" + str(clist) + \" to declare Data Science.\")\n",
    "                        readyornot = 0\n",
    "    if readyornot == 1:\n",
    "        print(\"Congratualtions! You are ready to declare data science!\")"
   ]
  },
  {
   "cell_type": "code",
   "execution_count": 27,
   "metadata": {},
   "outputs": [
    {
     "name": "stdout",
     "output_type": "stream",
     "text": [
      "You need to complete one of ['Data8'] first.\n",
      "You need to complete one of ['CS61A', 'CS88', 'E7'] first.\n",
      "You need to complete one of ['Math54', 'EE16A'] first.\n"
     ]
    }
   ],
   "source": [
    "inquiry('Data100', [])"
   ]
  },
  {
   "cell_type": "code",
   "execution_count": 28,
   "metadata": {},
   "outputs": [
    {
     "name": "stdout",
     "output_type": "stream",
     "text": [
      "You are qualified to take this course!\n"
     ]
    }
   ],
   "source": [
    "inquiry('Data100', ['Data8', 'CS88', 'Math54'])"
   ]
  },
  {
   "cell_type": "code",
   "execution_count": 29,
   "metadata": {},
   "outputs": [
    {
     "name": "stdout",
     "output_type": "stream",
     "text": [
      "You need to take Data8 to declare Data Science.\n",
      "You need to take Math1B to declare Data Science.\n"
     ]
    }
   ],
   "source": [
    "major_declaration(['E7', 'EE16A', 'EE16B', 'Math16A' ,'CS61B'])"
   ]
  },
  {
   "cell_type": "code",
   "execution_count": 30,
   "metadata": {},
   "outputs": [
    {
     "name": "stdout",
     "output_type": "stream",
     "text": [
      "Congratualtions! You are ready to declare data science!\n"
     ]
    }
   ],
   "source": [
    "major_declaration(['Data8', 'E7', 'EE16A', 'EE16B', 'Math16A' ,'CS61B', 'Math1B'])"
   ]
  },
  {
   "cell_type": "code",
   "execution_count": null,
   "metadata": {},
   "outputs": [],
   "source": []
  }
 ],
 "metadata": {
  "colab": {
   "collapsed_sections": [],
   "name": "Course_Map_&_Major_Declaration.ipynb",
   "provenance": [],
   "version": "0.3.2"
  },
  "kernelspec": {
   "display_name": "Python 3",
   "language": "python",
   "name": "python3"
  },
  "language_info": {
   "codemirror_mode": {
    "name": "ipython",
    "version": 3
   },
   "file_extension": ".py",
   "mimetype": "text/x-python",
   "name": "python",
   "nbconvert_exporter": "python",
   "pygments_lexer": "ipython3",
   "version": "3.6.7"
  }
 },
 "nbformat": 4,
 "nbformat_minor": 1
}
